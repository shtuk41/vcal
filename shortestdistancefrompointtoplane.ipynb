{
 "cells": [
  {
   "cell_type": "code",
   "execution_count": 10,
   "metadata": {},
   "outputs": [
    {
     "name": "stdout",
     "output_type": "stream",
     "text": [
      "Shortest distance 1 is:  5.0\n",
      "CR1 [ 0 -4  0]\n",
      "dot  20\n",
      "CR2 [0 4 0]\n",
      "Shortest distance 2 is:  [inf  5. inf]\n"
     ]
    },
    {
     "name": "stderr",
     "output_type": "stream",
     "text": [
      "/usr/local/lib/python3.5/dist-packages/ipykernel_launcher.py:19: RuntimeWarning: divide by zero encountered in true_divide\n"
     ]
    }
   ],
   "source": [
    "import vc\n",
    "import numpy as np\n",
    "\n",
    "n = np.array([0,1,0]);\n",
    "d = np.array([5,5,5]);\n",
    "a = np.array([1,0,0]);\n",
    "\n",
    "D1 = abs(vc.dot(d - a,vc.unit(n)));\n",
    "print(\"Shortest distance 1 is: \", D1);\n",
    "\n",
    "b = np.array([2,0,0]);\n",
    "c = np.array([0,0,2]);\n",
    "\n",
    "cr = vc.cross(b,c);\n",
    "print(\"CR1\", cr);\n",
    "print(\"dot \", abs(vc.dot(d - a, vc.cross(b,c))));\n",
    "print(\"CR2\", abs(vc.cross(b,c)));\n",
    "         \n",
    "D2 = abs(vc.dot(d - a, vc.cross(b,c))) / vc.magnitude(abs(vc.cross(b,c));\n",
    "print(\"Shortest distance 2 is: \", D2);"
   ]
  },
  {
   "cell_type": "code",
   "execution_count": null,
   "metadata": {},
   "outputs": [],
   "source": []
  }
 ],
 "metadata": {
  "kernelspec": {
   "display_name": "Python 3",
   "language": "python",
   "name": "python3"
  },
  "language_info": {
   "codemirror_mode": {
    "name": "ipython",
    "version": 3
   },
   "file_extension": ".py",
   "mimetype": "text/x-python",
   "name": "python",
   "nbconvert_exporter": "python",
   "pygments_lexer": "ipython3",
   "version": "3.5.2"
  }
 },
 "nbformat": 4,
 "nbformat_minor": 2
}
