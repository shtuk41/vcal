{
 "cells": [
  {
   "cell_type": "code",
   "execution_count": 10,
   "metadata": {},
   "outputs": [
    {
     "name": "stderr",
     "output_type": "stream",
     "text": [
      ".\n",
      "----------------------------------------------------------------------\n",
      "Ran 1 test in 0.002s\n",
      "\n",
      "OK\n"
     ]
    }
   ],
   "source": [
    "import unittest\n",
    "import numpy as np\n",
    "import vc\n",
    "\n",
    "class TestQuadrupleProduct(unittest.TestCase):\n",
    "\n",
    "\n",
    "\n",
    "\tdef testLinearCombinationusingQuadrupleRule(self):\n",
    "\t\n",
    "\n",
    "#d = (acoef * a + bcoef * b + ccoef * c) / dcoef\n",
    "#See below\n",
    "\n",
    "\t\ta = np.array([1,2,3]);\n",
    "\t\tb = np.array([2,3,1]);\n",
    "\t\tc = np.array([3,1,2]);\n",
    "\t\td = np.array([3,2,1]);\n",
    "\n",
    "\t\tacoef = vc.dot(vc.cross(b,c),d);\n",
    "\t\tbcoef = vc.dot(vc.cross(c,a),d);\n",
    "\t\tccoef = vc.dot(vc.cross(a,b),d);\n",
    "\t\tdcoef = vc.dot(vc.cross(a,b),c);\n",
    "\n",
    "\t\tdcacl = (-a + 2 * b + 2 * c) / 3;\n",
    "\n",
    "\t\tself.assertTrue(np.array_equal(d,dcacl));\n",
    "\n",
    "if __name__ == '__main__':\n",
    "    unittest.main(argv=['first-arg-is-ignored'], exit=False)"
   ]
  }
 ],
 "metadata": {
  "kernelspec": {
   "display_name": "Python 3",
   "language": "python",
   "name": "python3"
  },
  "language_info": {
   "codemirror_mode": {
    "name": "ipython",
    "version": 3
   },
   "file_extension": ".py",
   "mimetype": "text/x-python",
   "name": "python",
   "nbconvert_exporter": "python",
   "pygments_lexer": "ipython3",
   "version": "3.5.2"
  }
 },
 "nbformat": 4,
 "nbformat_minor": 2
}
