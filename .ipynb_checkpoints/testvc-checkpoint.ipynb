{
 "cells": [
  {
   "cell_type": "code",
   "execution_count": null,
   "metadata": {},
   "outputs": [],
   "source": [
    "import unittest\n",
    "import numpy as np\n",
    "import vc\n",
    "\n",
    "\n",
    "class TestVC(unittest.TestCase):\n",
    "\n",
    "\tdef testScalarProductZero(self):\n",
    "\t\ta = np.array([5,0,0]);\n",
    "\t\tb = np.array([0,10,0]);\n",
    "\t\tc = vc.dot(a,b)\n",
    "\n",
    "\t\tself.assertEqual(c,0);\n",
    "\n",
    "\tdef testUnitVector(self):\n",
    "\t\ta = np.array([2,0,0]);\n",
    "\t\tb = vc.unit(a);\n",
    "\t\tself.assertTrue(np.array_equal(b,np.array([1,0,0])));\n",
    "\n",
    "\tdef testDirectionAngle(self):\n",
    "\t\ta = np.array([1,1,1]);\n",
    "\t\tb = np.array([1,0,0]);\n",
    "\t\tself.assertAlmostEqual(vc.direction_deg(a,b),54.7356,places=4,delta=None);\n",
    "\n",
    "\tdef testVectorProduct(self):\n",
    "\t\ta = np.array([3,2,1]);\n",
    "\t\tb = np.array([1,2,3]);\n",
    "\t\tc = vc.cross(a,b);\n",
    "\t\tself.assertTrue(np.array_equal(c,[4,-8, 4]));\n",
    "\n",
    "\tdef testVectorProductAntiCommutative(self):\n",
    "\t\ta = np.array([3,2,1]);\n",
    "\t\tb = np.array([1,2,3]); \n",
    "\t\tc1 = vc.cross(a,b);\n",
    "\t\tc15 = vc.cross(b,a);\n",
    "\t\tc2 = -c15;\n",
    "\t\tprint(c1);\n",
    "\t\tprint(c15);\n",
    "\t\tprint(c2);\n",
    "\t\tself.assertTrue(np.array_equal(c1,c2));\n",
    "\n",
    "if __name__ == '__main__':\n",
    "    unittest.main(argv=['first-arg-is-ignored'], exit=False)\n"
   ]
  }
 ],
 "metadata": {
  "kernelspec": {
   "display_name": "Python 3",
   "language": "python",
   "name": "python3"
  },
  "language_info": {
   "codemirror_mode": {
    "name": "ipython",
    "version": 3
   },
   "file_extension": ".py",
   "mimetype": "text/x-python",
   "name": "python",
   "nbconvert_exporter": "python",
   "pygments_lexer": "ipython3",
   "version": "3.5.2"
  }
 },
 "nbformat": 4,
 "nbformat_minor": 2
}
